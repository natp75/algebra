{
 "cells": [
  {
   "cell_type": "code",
   "execution_count": null,
   "metadata": {},
   "outputs": [],
   "source": [
    "#homework_6_1 Задание (теорема сложения)\n",
    "#Найти вероятность выпадения 2 или 5 очков при подбрасывании игральной кости, на гранях которой имеются соответственно\n",
    "1,2,3,4,5 и 6 очков. \n"
   ]
  },
  {
   "cell_type": "code",
   "execution_count": null,
   "metadata": {},
   "outputs": [],
   "source": [
    "#события несовместные \n",
    "P(A+B)= P(A)+P(B)=1/6+1/6=1/3\n",
    "ответ:1/3"
   ]
  },
  {
   "cell_type": "code",
   "execution_count": null,
   "metadata": {},
   "outputs": [],
   "source": [
    "#homework_6_2 Задание (теорема умножения)\n",
    "#Найти вероятность того, что при двух подбрасываниях той же самой игральной кости сначала выпадет 2, а затем 5.\n",
    "#события несовместные"
   ]
  },
  {
   "cell_type": "code",
   "execution_count": null,
   "metadata": {},
   "outputs": [],
   "source": [
    "P(A*B)=P(A)*P(B)=1/6*1/6=1/36\n",
    "ответ:1/36"
   ]
  },
  {
   "cell_type": "code",
   "execution_count": null,
   "metadata": {},
   "outputs": [],
   "source": [
    "#homework_6_3 Найти вероятность выпадения 2 и 5 очков при двух подбрасываниях той же самой игральной игральной кости. \n",
    "#Обратите внимание на порядок выпадения костей!"
   ]
  },
  {
   "cell_type": "code",
   "execution_count": null,
   "metadata": {},
   "outputs": [],
   "source": [
    "ф-ла Бернулли\n",
    "Pmn=Cn^mP^mq^n-m\n",
    "m=2\n",
    "n=2\n",
    "тк m=n Pmn=p^n \n",
    "p=1/6 P2_2=(1/6)^2=1/36\n",
    "ответ:1/36"
   ]
  },
  {
   "cell_type": "code",
   "execution_count": null,
   "metadata": {},
   "outputs": [],
   "source": [
    "#homework_6_4 Задание  (Геометрическая вероятность +интервалы)\n",
    "#На отрезке AB длиной 20 см наугад отметили точку C. Какова вероятность, \n",
    "#что она находится на расстоянии не более 9 см от точки А и не более 15 см от точки В?\n"
   ]
  },
  {
   "cell_type": "code",
   "execution_count": null,
   "metadata": {},
   "outputs": [],
   "source": [
    "AB=20 9<C<15\n",
    "15-9=6  6/20=0,3\n",
    "ответ:0,3"
   ]
  },
  {
   "cell_type": "code",
   "execution_count": null,
   "metadata": {},
   "outputs": [],
   "source": [
    "#homework_6_5 Задание Телефонный номер состоит из 7 цифр. Какова вероятность, \n",
    "что это номер 8882227?"
   ]
  },
  {
   "cell_type": "code",
   "execution_count": null,
   "metadata": {},
   "outputs": [],
   "source": [
    "комбинация, нет выбора, порядок  важен---> размещение\n",
    "An^m=n!/(n-m)!\n",
    "m=7\n",
    "n=10\n",
    "10!/3!=1*2*3*4*5*6*7*8*9*10 / 1*2*3=60480\n",
    "ответ:604800"
   ]
  },
  {
   "cell_type": "code",
   "execution_count": null,
   "metadata": {},
   "outputs": [],
   "source": [
    "#homework_6_6 Набирая номер телефона, абонент забыл 2 последние цифры, и, помня только то, \n",
    "что эти цифры различны и среди них нет нуля, стал набирать их наудачу. \n",
    "Сколько вариантов ему надо перебрать, чтобы наверняка найти нужный номер? \n",
    "Какова вероятность того, что он угадает номер с первого раза?\n",
    "\n"
   ]
  },
  {
   "cell_type": "code",
   "execution_count": null,
   "metadata": {},
   "outputs": [],
   "source": [
    "комбинация, есть выбор, порядок не важен---> сочетание пусть в номере 10 цифр\n",
    "Сn^m=n!/m!(n-m)!\n",
    "C2_9 = 9!/2!(9-2)!=7!*8*9/2!*7!=72/2=36\n",
    "ответ:36 вариантов ему надо перебрать, чтобы наверняка найти нужный номер\n",
    "\n",
    "\n",
    "\n",
    "\n",
    "C1_10 = 10!/1!(10-1)!=9!*10/1!*9!=10 ??????  вероятность того, что он угадает номер с первого раза"
   ]
  }
 ],
 "metadata": {
  "kernelspec": {
   "display_name": "Python 3",
   "language": "python",
   "name": "python3"
  },
  "language_info": {
   "codemirror_mode": {
    "name": "ipython",
    "version": 3
   },
   "file_extension": ".py",
   "mimetype": "text/x-python",
   "name": "python",
   "nbconvert_exporter": "python",
   "pygments_lexer": "ipython3",
   "version": "3.8.5"
  }
 },
 "nbformat": 4,
 "nbformat_minor": 4
}
