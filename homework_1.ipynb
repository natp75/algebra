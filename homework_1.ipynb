{
 "cells": [
  {
   "cell_type": "code",
   "execution_count": null,
   "id": "3b8863a1",
   "metadata": {},
   "outputs": [],
   "source": [
    "#homework_1_1  Линейная или нелинейная это система? линейная    А каждое уравнение по отдельности? линейное"
   ]
  },
  {
   "cell_type": "code",
   "execution_count": 1,
   "id": "da403c8a",
   "metadata": {},
   "outputs": [
    {
     "ename": "SyntaxError",
     "evalue": "invalid syntax (<ipython-input-1-744874ac549e>, line 1)",
     "output_type": "error",
     "traceback": [
      "\u001b[1;36m  File \u001b[1;32m\"<ipython-input-1-744874ac549e>\"\u001b[1;36m, line \u001b[1;32m1\u001b[0m\n\u001b[1;33m    3x – 2y + 5z = 7\u001b[0m\n\u001b[1;37m     ^\u001b[0m\n\u001b[1;31mSyntaxError\u001b[0m\u001b[1;31m:\u001b[0m invalid syntax\n"
     ]
    }
   ],
   "source": [
    "3x – 2y + 5z = 7         \n",
    "7x + 4y – 8z = 3\n",
    "5x – 3y– 4z = –12\n",
    "\n",
    "3x – 2y + 5z = 7|8\n",
    "7x + 4y – 8z = 3|5\n",
    "\n",
    "24x-16y+40z=56\n",
    "+\n",
    "35x+20y-40z=15\n",
    "=\n",
    "59x+4y=71\n",
    "x=(71-4y)/59\n",
    "\n",
    "3x – 2y + 5z = 7|4\n",
    "5x – 3y– 4z = –12|5\n",
    "\n",
    "12x-8y+20z=28\n",
    "+\n",
    "25x-15y-20z=-60\n",
    "=\n",
    "37x-23y=-32 ---> 37(71-4y)/59 - 23y=-32 ---> ответ: y=3, x=1, z=2\n",
    "\n",
    "Линейная или нелинейная это система? линейная    А каждое уравнение по отдельности? линейное\n"
   ]
  },
  {
   "cell_type": "code",
   "execution_count": null,
   "id": "6badd5f7",
   "metadata": {},
   "outputs": [],
   "source": [
    "#homework_1_2 Линейная или нелинейная это система? нелинейная А каждое уравнение по отдельности? первое нелинейное, второе линейное"
   ]
  },
  {
   "cell_type": "code",
   "execution_count": null,
   "id": "9a0ad04e",
   "metadata": {},
   "outputs": [],
   "source": [
    "x^2 + y∙x – 9 = 0\n",
    "x – y/5 = 0\n",
    "\n",
    "-y/5=-x|-5 --->y=5x\n",
    "x^2 + 5x∙x – 9 = 0\n",
    "x^2+5x^2=9\n",
    "6x^2=9\n",
    "x=1.2  y=6\n",
    "ответ: x=1.2  y=6\n",
    "Линейная или нелинейная это система? НЕлинейная    А каждое уравнение по отдельности? первое НЕлинейное. второе линейное"
   ]
  },
  {
   "cell_type": "code",
   "execution_count": null,
   "id": "f19bdd54",
   "metadata": {},
   "outputs": [],
   "source": [
    "#homework_1_3 Площадь пола прямоугольной комнаты равна 48 м2,а его периметр равен 28 м. Найдите длину и ширину комнаты"
   ]
  },
  {
   "cell_type": "code",
   "execution_count": null,
   "id": "3f596de0",
   "metadata": {},
   "outputs": [],
   "source": [
    "ab=48\n",
    "(a+b)2=28 ---> a+b=14---> a=14-b\n",
    "\n",
    "-b^2+14b-48=0\n",
    "D=b^2-4ac=4 > 0  => b1,2= (-14+-корень из D)2*-1\n",
    "b1=6, b2=8\n",
    "a1=8, a2=6\n",
    "ответ:ширина 6м длина 8м\n"
   ]
  },
  {
   "cell_type": "code",
   "execution_count": null,
   "id": "e5e241d4",
   "metadata": {},
   "outputs": [],
   "source": [
    "#Постройте на одном графике две кривые y(x) для функции двух переменных cos(k∙x), взяв для одной кривой значение k=1, а для другой – любое другое k, не равное 1 "
   ]
  },
  {
   "cell_type": "code",
   "execution_count": 1,
   "id": "b06d3307",
   "metadata": {},
   "outputs": [],
   "source": [
    "%matplotlib inline\n",
    "import numpy as np\n",
    "import matplotlib.pyplot as plt\n"
   ]
  },
  {
   "cell_type": "code",
   "execution_count": 51,
   "id": "d8e6ef62",
   "metadata": {},
   "outputs": [
    {
     "data": {
      "image/png": "[encoded data removed]",
      "text/plain": [
       "<Figure size 432x288 with 1 Axes>"
      ]
     },
     "metadata": {
      "needs_background": "light"
     },
     "output_type": "display_data"
    }
   ],
   "source": [
    "x=np.linspace(-10, 10, 100)\n",
    "plt.plot(x, np.cos(x))\n",
    "x1=1\n",
    "plt.plot(x1, np.cos(x1))\n",
    "x2=0.4\n",
    "plt.plot(x2, np.cos(x2))\n",
    "\n",
    "plt.show()"
   ]
  },
  {
   "cell_type": "code",
   "execution_count": null,
   "id": "8af5f070",
   "metadata": {},
   "outputs": [],
   "source": []
  },
  {
   "cell_type": "code",
   "execution_count": null,
   "id": "a79dd1cf",
   "metadata": {},
   "outputs": [],
   "source": []
  }
 ],
 "metadata": {
  "kernelspec": {
   "display_name": "Python 3",
   "language": "python",
   "name": "python3"
  },
  "language_info": {
   "codemirror_mode": {
    "name": "ipython",
    "version": 3
   },
   "file_extension": ".py",
   "mimetype": "text/x-python",
   "name": "python",
   "nbconvert_exporter": "python",
   "pygments_lexer": "ipython3",
   "version": "3.8.8"
  }
 },
 "nbformat": 4,
 "nbformat_minor": 5
}
