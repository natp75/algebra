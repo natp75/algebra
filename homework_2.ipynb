{
 "cells": [
  {
   "cell_type": "code",
   "execution_count": null,
   "id": "5ed2e068",
   "metadata": {},
   "outputs": [],
   "source": [
    "#homework_2_1\n",
    "#Напишите уравнение параболы, проходящей через три точки (x,y):(1,2), (3,10), (5,1)\n"
   ]
  },
  {
   "cell_type": "code",
   "execution_count": null,
   "id": "2f557153",
   "metadata": {},
   "outputs": [],
   "source": [
    "y=ax^2+bx+c\n",
    "\n",
    "2=a1^2+b+c\n",
    "10=a3^2+3b+c\n",
    "1=a5^2+5b+c\n",
    "\n",
    "2=a+b+c\n",
    "10=9a+3b+c\n",
    "1=25a+5b+c\n",
    "\n",
    "a=2-b-c\n",
    "10=18-6b-8c\n",
    "1=50-22b-24c\n",
    "\n",
    "a=2-b-c\n",
    "-6b=-8+8c|*-1 ---> b=(8-8c)/6\n",
    "1=50-22b-24c\n",
    "\n",
    "-22((8-8c)/6)-24c=-49\n",
    "-320c=-118\n",
    "c=0.37, b=2.6, a=-0.97\n",
    "\n",
    "ответ: y=-0.97x^2+2.6x+0.37\n",
    "\n"
   ]
  },
  {
   "cell_type": "code",
   "execution_count": null,
   "id": "b57000d0",
   "metadata": {},
   "outputs": [],
   "source": [
    "#homework_2_2\n",
    "#Известно, что свежий огурец на 99% состоит из воды. Месяц назад взвесили мешок со свежими огурцами.\n",
    "#Получилось, что огурцов ровно 100 кг. Мешок убрали, а через месяц снова взвесили. \n",
    "#Огурцы за это время усохли, и теперь вода составляет уже только 98% их веса. Сколько теперь (в кг) весят огурцы?\n"
   ]
  },
  {
   "cell_type": "code",
   "execution_count": null,
   "id": "9fc3da90",
   "metadata": {},
   "outputs": [],
   "source": [
    "x(нов вес огурцов)=1/(1-0,98)=50 \n",
    "ответ:50 кг"
   ]
  },
  {
   "cell_type": "code",
   "execution_count": null,
   "id": "f8d41f31",
   "metadata": {},
   "outputs": [],
   "source": [
    "#homework_2_3   Определение логарифма. Решить уравнения:"
   ]
  },
  {
   "cell_type": "code",
   "execution_count": null,
   "id": "6a670a06",
   "metadata": {},
   "outputs": [],
   "source": [
    "2^x=256  2^x=2^8  x=8\n",
    "2^x=300  2^x=2^8+(2^5+12)=8+32+12=44"
   ]
  },
  {
   "cell_type": "code",
   "execution_count": null,
   "id": "4bc496df",
   "metadata": {},
   "outputs": [],
   "source": [
    "#homework_2_4   Задание Свойства логарифмов. Вычислить:"
   ]
  },
  {
   "cell_type": "code",
   "execution_count": null,
   "id": "be9c70ab",
   "metadata": {},
   "outputs": [],
   "source": [
    "log4(16)=log4(4^2)=2\n",
    "log5(1/25)=log5|1|-log5|25|=0-1*2=-2\n",
    "log25(5)=log5^2(5)=½ log|5|^5=½\n",
    "log3(√27)=log3(3^3)^1/2=3/2\n",
    "log2(12)-log2(3)=log2(12/3)=2\n",
    "log6(12)+log6(3)=log6(12*3)=2\n",
    "e^ln5=\n",
    "log2(225)/log2(15)=log2(15*15)/log2(15)=log2|15|+log2|15|-log2|15|=log2|15|=3.9\n",
    "log4(32)+log0.1(10)=   \n",
    "9^log(3(√5))="
   ]
  }
 ],
 "metadata": {
  "kernelspec": {
   "display_name": "Python 3",
   "language": "python",
   "name": "python3"
  },
  "language_info": {
   "codemirror_mode": {
    "name": "ipython",
    "version": 3
   },
   "file_extension": ".py",
   "mimetype": "text/x-python",
   "name": "python",
   "nbconvert_exporter": "python",
   "pygments_lexer": "ipython3",
   "version": "3.8.8"
  }
 },
 "nbformat": 4,
 "nbformat_minor": 5
}
