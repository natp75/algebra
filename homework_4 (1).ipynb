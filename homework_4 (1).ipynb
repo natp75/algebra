{
 "cells": [
  {
   "cell_type": "code",
   "execution_count": null,
   "metadata": {},
   "outputs": [],
   "source": [
    "#homework_4_1 Решите уравнение "
   ]
  },
  {
   "cell_type": "code",
   "execution_count": null,
   "metadata": {},
   "outputs": [],
   "source": [
    "sin(x)/x=0\n",
    "x=П"
   ]
  },
  {
   "cell_type": "code",
   "execution_count": null,
   "metadata": {},
   "outputs": [],
   "source": [
    "#homework_4_2 Даны три прямые y=k1*x+b1, y=k2*x+b2, y=k3*x+b3. Как узнать, пересекаются они в одной точке или нет?"
   ]
  },
  {
   "cell_type": "code",
   "execution_count": null,
   "metadata": {},
   "outputs": [],
   "source": [
    "уравнение пучка прямых на плоскости, проходящих через заданную точку M(x0,y0), можно записать в следующем виде:\n",
    "y-y0=k(x+x0); y=kx+ (y0-kx0); y=y0-kx0\n",
    "b1=(y0-k1x0) b2=(y0-k2x0) b3=(y0-k3x0)"
   ]
  },
  {
   "cell_type": "code",
   "execution_count": null,
   "metadata": {},
   "outputs": [],
   "source": [
    "#homework_4_3 На листе тетради «в линейку» (расстояние между линиями равно а) лежит игла (длиной b).\n",
    "#Координаты нижней точки иглы (х,у), игла лежит под углом alfa. Пересекает ли игла линию или нет?"
   ]
  },
  {
   "cell_type": "code",
   "execution_count": null,
   "metadata": {},
   "outputs": [],
   "source": [
    "если a=b (при k угловой коэфф. = 0), то игла пересекает линию\n"
   ]
  },
  {
   "cell_type": "code",
   "execution_count": null,
   "metadata": {},
   "outputs": [],
   "source": [
    "#homework_4_4 найти угол альфа между прямыми"
   ]
  },
  {
   "cell_type": "code",
   "execution_count": null,
   "metadata": {},
   "outputs": [],
   "source": [
    "4y-3x+12=0\n",
    "7y+x-14=0\n",
    "\n",
    "y=(3x-12)/4\n",
    "y=(14-x)/7\n",
    "\n",
    "tg α=(k1-k2)/1+k1k2=(3-(-1))/1+3*-1=-2 ?????\n",
    " "
   ]
  },
  {
   "cell_type": "code",
   "execution_count": null,
   "metadata": {},
   "outputs": [],
   "source": [
    "#найти угол альфа между прямыми\n",
    "x=√2\n",
    "x=√-3\n",
    "\n",
    "x-√2=0\n",
    "x-√-3=0\n",
    "tg α =1-1/1+1*1=0 α= 0 или 180"
   ]
  },
  {
   "cell_type": "code",
   "execution_count": null,
   "metadata": {},
   "outputs": [],
   "source": [
    "#homework_4_5 тип кривых второго порядка\n",
    "y^2-2x-2y-5=0\n",
    "0⋅x^2+1⋅y^2+0⋅xy−2⋅x−2⋅y−5=0\n",
    "−2x+y2−2y=5\n",
    "Разделим обе части ур-ния на (y^2 - 2*x - 2*y)/x\n",
    "x = 5 / ((y^2 - 2*x - 2*y)/x)\n",
    "x = -5/2 + y^2/2 - y\n",
    "5/2=y^2/(2 - y)-x \n",
    "\n",
    "Ответ: парабола."
   ]
  },
  {
   "cell_type": "code",
   "execution_count": null,
   "metadata": {},
   "outputs": [],
   "source": [
    "3x^2+5y^2+12x-30y+42=0\n",
    "3⋅x^2+5⋅y^2+0⋅z2+0⋅xy+0⋅xz+0⋅yz+12⋅x−30⋅y+0⋅z+42=0.\n",
    "(−30y+(12x+(3x2+5y2)))+42=0\n",
    "(12)^2 - 4 * (3) * (42 - 30*y + 5*y^2) = -360 - 60*y^2 + 360*y\n",
    "x1x2=5y^2/3−10y+14\n",
    "Ответ: парабола."
   ]
  },
  {
   "cell_type": "code",
   "execution_count": null,
   "metadata": {},
   "outputs": [],
   "source": [
    "2x^2-y^2+6y-7=0\n",
    "2⋅x^2−1⋅y^2+0⋅z2+0⋅xy+0⋅xz+0⋅yz+0⋅x+6⋅y+0⋅z−7=0.\n",
    "x1x2=−y^2/2+3y−7/2\n",
    "Ответ: парабола."
   ]
  },
  {
   "cell_type": "code",
   "execution_count": null,
   "metadata": {},
   "outputs": [],
   "source": [
    "2x^2-3y^2-28x-42y-55=0\n",
    "2⋅x^2−3⋅y^2+0⋅xy−28⋅x−42⋅y−55=0.\n",
    "(-28)^2 - 4 * (2) * (-55 - 42*y - 3*y^2) = 1224 + 24*y^2 + 336*y\n",
    "\n",
    "Ответ: парабола."
   ]
  }
 ],
 "metadata": {
  "kernelspec": {
   "display_name": "Python 3",
   "language": "python",
   "name": "python3"
  },
  "language_info": {
   "codemirror_mode": {
    "name": "ipython",
    "version": 3
   },
   "file_extension": ".py",
   "mimetype": "text/x-python",
   "name": "python",
   "nbconvert_exporter": "python",
   "pygments_lexer": "ipython3",
   "version": "3.8.5"
  }
 },
 "nbformat": 4,
 "nbformat_minor": 4
}
