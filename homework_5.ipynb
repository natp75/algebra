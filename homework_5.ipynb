{
 "cells": [
  {
   "cell_type": "code",
   "execution_count": null,
   "id": "f0bbf297",
   "metadata": {},
   "outputs": [],
   "source": [
    "#homework_5_1 Напишите код, моделирующий выпадение поля в рулетке (с учетом поля зеро)"
   ]
  },
  {
   "cell_type": "code",
   "execution_count": null,
   "id": "c463a425",
   "metadata": {},
   "outputs": [],
   "source": [
    "for i in range(0, 5):\n",
    "    a = input()\n",
    "    num = np.random.uniform(0, 36)\n",
    "    if num==0:\n",
    "      print(\"zero\")\n",
    "    elif x<50:\n",
    "        print(\"red\")\n",
    "    else:\n",
    "        print(\"black\")"
   ]
  },
  {
   "cell_type": "code",
   "execution_count": null,
   "id": "eb359966",
   "metadata": {},
   "outputs": [],
   "source": [
    "#homework_5_2 \n",
    "#Напишите код, проверяющий любую из теорем сложения или умножения вероятности на примере рулетки или подбрасывания монетки."
   ]
  },
  {
   "cell_type": "code",
   "execution_count": null,
   "id": "86891d06",
   "metadata": {},
   "outputs": [],
   "source": [
    "%matplotlib inline\n",
    "import numpu as np\n",
    "import matplotlib.pyplot as plt\n",
    "import matplotlib.mlab as mlab\n",
    "\n",
    "np.random.rand(10)\n",
    "\n",
    "k,m = 0, 0\n",
    "n = 50\n",
    "for i in range(0, n):\n",
    "    x = np.random.uniform(0, 10)\n",
    "    if x<5:\n",
    "        k = k + 1 \n",
    "    else:\n",
    "        m = m + 1 \n",
    "print(k,m)"
   ]
  },
  {
   "cell_type": "code",
   "execution_count": null,
   "id": "4eb48c9a",
   "metadata": {},
   "outputs": [],
   "source": [
    "#Сгенерируйте десять выборок случайных чисел х0, …, х9.\n",
    "#и постройте гистограмму распределения случайной суммы  +х0+ …+ х 9"
   ]
  },
  {
   "cell_type": "code",
   "execution_count": null,
   "id": "3813388f",
   "metadata": {},
   "outputs": [],
   "source": [
    "\n",
    "%matplotlib inline\n",
    "import numpy as np\n",
    "import matplotlib.pyplot as plt\n",
    "import matplotlib.mlab as mlab\n",
    "\n",
    "\n",
    "sums=[]\n",
    "for i in range(11):\n",
    "  x=np.random.rand(10)\n",
    "  sums.append(sum(x))\n",
    "  i+=1\n",
    "num_bins = 10\n",
    "n, bins, patches = plt.hist(sums, num_bins)\n",
    "fig = sns_plot.get_figure()\n",
    "\n"
   ]
  },
  {
   "cell_type": "code",
   "execution_count": null,
   "id": "689368a5",
   "metadata": {},
   "outputs": [],
   "source": [
    "#homework_5_3\n",
    "#Дополните код Монте-Карло последовательности независимых испытаний расчетом соответствующих вероятностей (через биномиальное распределение) \n",
    "#и сравните результаты.\n"
   ]
  },
  {
   "cell_type": "code",
   "execution_count": null,
   "id": "4591b16b",
   "metadata": {},
   "outputs": [],
   "source": [
    "import numpy as np\n",
    "import itertools\n",
    "for p in itertools.product(\"01\",repeat=6):\n",
    "    print(''.join(p))   "
   ]
  },
  {
   "cell_type": "code",
   "execution_count": null,
   "id": "0d04bfa4",
   "metadata": {},
   "outputs": [],
   "source": [
    "\n"
   ]
  }
 ],
 "metadata": {
  "kernelspec": {
   "display_name": "Python 3",
   "language": "python",
   "name": "python3"
  },
  "language_info": {
   "codemirror_mode": {
    "name": "ipython",
    "version": 3
   },
   "file_extension": ".py",
   "mimetype": "text/x-python",
   "name": "python",
   "nbconvert_exporter": "python",
   "pygments_lexer": "ipython3",
   "version": "3.8.8"
  }
 },
 "nbformat": 4,
 "nbformat_minor": 5
}
